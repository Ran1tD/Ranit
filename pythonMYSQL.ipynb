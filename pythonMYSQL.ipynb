{
 "cells": [
  {
   "cell_type": "code",
   "execution_count": null,
   "metadata": {},
   "outputs": [],
   "source": [
    "import mysql.connector\n",
    "db = mysql.connector.connect(\n",
    "    host=\"localhost\",\n",
    "    user=\"root\",\n",
    "    password=\"\",\n",
    "    database=\"msit\"\n",
    ")\n",
    "mysql_query=db.cursor()\n",
    "mysql_query.execute(\"CREATE TABLE customers_2 (id INT AUTO_INCREMENT PRIMARY KEY,name VARCHAR(255),address VARCHAR(250),email VARCHAR(30))\")\n",
    "print(\"table created successfully\")"
   ]
  },
  {
   "cell_type": "code",
   "execution_count": null,
   "metadata": {},
   "outputs": [],
   "source": [
    "import mysql.connector\n",
    "\n",
    "mydb = mysql.connector.connect(\n",
    "    host=\"localhost\",\n",
    "    user=\"root\",\n",
    "    password=\"\",\n",
    "    database=\"msit\"\n",
    ")\n",
    "\n",
    "mycurso = mydb.cursor()\n",
    "sql = \"INSERT INTO customers(name) VALUES(%s)\"\n",
    "val=(\"Ranit\")\n",
    "mycursor.execute(sql, val)\n",
    "\n",
    "sql_2=\"INSERT INTO customers_2(name,address,email) VALUES(%s,%s,%s)\"\n",
    "val_2=(\"Rony\",\"Amta\",\"rd@gmail.com\")\n",
    "mycursor.execute(sql_2,val_2)\n",
    "\n",
    "mydb.commit()\n",
    "\n",
    "print(mycursor.rowcount,\"record inserted.\")"
   ]
  }
 ],
 "metadata": {
  "language_info": {
   "name": "python"
  },
  "orig_nbformat": 4
 },
 "nbformat": 4,
 "nbformat_minor": 2
}
